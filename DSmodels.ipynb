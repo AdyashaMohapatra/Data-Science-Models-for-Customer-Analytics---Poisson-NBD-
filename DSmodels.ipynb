{
 "cells": [
  {
   "cell_type": "markdown",
   "id": "1644e299",
   "metadata": {},
   "source": [
    "# PROJECT02_GROUP12\n",
    "Group members:  Krishna Sai Singamneni, Ajay Kumar Aluwala, Akshay Mirajkar, Venkata Pavani Pasupuleti, Charith Sarvareddy "
   ]
  },
  {
   "cell_type": "markdown",
   "id": "51870f90",
   "metadata": {},
   "source": [
    "# PART I: Replicating Models from Class"
   ]
  },
  {
   "cell_type": "markdown",
   "id": "cae99c73",
   "metadata": {},
   "source": [
    "# QUESTION 1"
   ]
  },
  {
   "cell_type": "markdown",
   "id": "32d5a3f4",
   "metadata": {},
   "source": [
    "<hr style=\"border:2px solid black\">\n",
    "1. Consider the hard candy example from class. The associated data is in the file candy.csv. Develop the following models discussed in class using maximum likelihood estimation (MLE):  \n",
    "\n",
    "(a) the Poisson model,  \n",
    "(b) the NBD model,  \n",
    "(c) the Zero Inflated NBD model, and   \n",
    "(d) Finite Mixture models for 2, 3, and 4 segments.    \n",
    "\n",
    "Report your code and all relevant details, including the estimated values of the parameters for each model and the corresponding log-likelihood values. Please add comments to your code to make it easy to understand.\n",
    "<hr style=\"border:2px solid black\">"
   ]
  },
  {
   "cell_type": "code",
   "execution_count": 1,
   "id": "53809419",
   "metadata": {},
   "outputs": [],
   "source": [
    "import os \n",
    "import numpy as np\n",
    "import pandas as pd\n",
    "import statsmodels.api as sm\n",
    "import math\n",
    "from scipy.stats import poisson\n",
    "from scipy.stats import gamma\n",
    "from scipy.optimize import minimize\n",
    "from math import e\n",
    "from math import gamma\n",
    "from scipy.special import factorial\n",
    "from collections import Counter"
   ]
  },
  {
   "cell_type": "code",
   "execution_count": 2,
   "id": "d1804dfb",
   "metadata": {},
   "outputs": [
    {
     "data": {
      "text/html": [
       "<div>\n",
       "<style scoped>\n",
       "    .dataframe tbody tr th:only-of-type {\n",
       "        vertical-align: middle;\n",
       "    }\n",
       "\n",
       "    .dataframe tbody tr th {\n",
       "        vertical-align: top;\n",
       "    }\n",
       "\n",
       "    .dataframe thead th {\n",
       "        text-align: right;\n",
       "    }\n",
       "</style>\n",
       "<table border=\"1\" class=\"dataframe\">\n",
       "  <thead>\n",
       "    <tr style=\"text-align: right;\">\n",
       "      <th></th>\n",
       "      <th>Packs</th>\n",
       "      <th>People</th>\n",
       "    </tr>\n",
       "  </thead>\n",
       "  <tbody>\n",
       "    <tr>\n",
       "      <th>0</th>\n",
       "      <td>0</td>\n",
       "      <td>102</td>\n",
       "    </tr>\n",
       "    <tr>\n",
       "      <th>1</th>\n",
       "      <td>1</td>\n",
       "      <td>54</td>\n",
       "    </tr>\n",
       "    <tr>\n",
       "      <th>2</th>\n",
       "      <td>2</td>\n",
       "      <td>49</td>\n",
       "    </tr>\n",
       "    <tr>\n",
       "      <th>3</th>\n",
       "      <td>3</td>\n",
       "      <td>62</td>\n",
       "    </tr>\n",
       "    <tr>\n",
       "      <th>4</th>\n",
       "      <td>4</td>\n",
       "      <td>44</td>\n",
       "    </tr>\n",
       "    <tr>\n",
       "      <th>5</th>\n",
       "      <td>5</td>\n",
       "      <td>25</td>\n",
       "    </tr>\n",
       "    <tr>\n",
       "      <th>6</th>\n",
       "      <td>6</td>\n",
       "      <td>26</td>\n",
       "    </tr>\n",
       "    <tr>\n",
       "      <th>7</th>\n",
       "      <td>7</td>\n",
       "      <td>15</td>\n",
       "    </tr>\n",
       "    <tr>\n",
       "      <th>8</th>\n",
       "      <td>8</td>\n",
       "      <td>15</td>\n",
       "    </tr>\n",
       "    <tr>\n",
       "      <th>9</th>\n",
       "      <td>9</td>\n",
       "      <td>10</td>\n",
       "    </tr>\n",
       "    <tr>\n",
       "      <th>10</th>\n",
       "      <td>10</td>\n",
       "      <td>10</td>\n",
       "    </tr>\n",
       "    <tr>\n",
       "      <th>11</th>\n",
       "      <td>11</td>\n",
       "      <td>10</td>\n",
       "    </tr>\n",
       "    <tr>\n",
       "      <th>12</th>\n",
       "      <td>12</td>\n",
       "      <td>10</td>\n",
       "    </tr>\n",
       "    <tr>\n",
       "      <th>13</th>\n",
       "      <td>13</td>\n",
       "      <td>3</td>\n",
       "    </tr>\n",
       "    <tr>\n",
       "      <th>14</th>\n",
       "      <td>14</td>\n",
       "      <td>3</td>\n",
       "    </tr>\n",
       "    <tr>\n",
       "      <th>15</th>\n",
       "      <td>15</td>\n",
       "      <td>5</td>\n",
       "    </tr>\n",
       "    <tr>\n",
       "      <th>16</th>\n",
       "      <td>16</td>\n",
       "      <td>5</td>\n",
       "    </tr>\n",
       "    <tr>\n",
       "      <th>17</th>\n",
       "      <td>17</td>\n",
       "      <td>4</td>\n",
       "    </tr>\n",
       "    <tr>\n",
       "      <th>18</th>\n",
       "      <td>18</td>\n",
       "      <td>1</td>\n",
       "    </tr>\n",
       "    <tr>\n",
       "      <th>19</th>\n",
       "      <td>19</td>\n",
       "      <td>2</td>\n",
       "    </tr>\n",
       "    <tr>\n",
       "      <th>20</th>\n",
       "      <td>20</td>\n",
       "      <td>1</td>\n",
       "    </tr>\n",
       "  </tbody>\n",
       "</table>\n",
       "</div>"
      ],
      "text/plain": [
       "    Packs  People\n",
       "0       0     102\n",
       "1       1      54\n",
       "2       2      49\n",
       "3       3      62\n",
       "4       4      44\n",
       "5       5      25\n",
       "6       6      26\n",
       "7       7      15\n",
       "8       8      15\n",
       "9       9      10\n",
       "10     10      10\n",
       "11     11      10\n",
       "12     12      10\n",
       "13     13       3\n",
       "14     14       3\n",
       "15     15       5\n",
       "16     16       5\n",
       "17     17       4\n",
       "18     18       1\n",
       "19     19       2\n",
       "20     20       1"
      ]
     },
     "execution_count": 2,
     "metadata": {},
     "output_type": "execute_result"
    }
   ],
   "source": [
    "os.chdir(r'D:\\ACADS\\SEMESTER I\\BUAN 6383\\PROJECTS\\PROJECT 2')\n",
    "df = pd.read_csv(r'candy.csv')\n",
    "df"
   ]
  },
  {
   "cell_type": "markdown",
   "id": "135bc6cb",
   "metadata": {},
   "source": [
    "<hr style=\"border:2px solid black\">\n",
    "(a) Poisson Model\n",
    "<hr style=\"border:2px solid black\">"
   ]
  },
  {
   "cell_type": "code",
   "execution_count": 3,
   "id": "740f5446",
   "metadata": {},
   "outputs": [
    {
     "name": "stdout",
     "output_type": "stream",
     "text": [
      "Optimal Solution for Poisson Model:\n",
      "Lambda = 3.9912\n",
      "Log likelihood = -1545.0\n"
     ]
    }
   ],
   "source": [
    "# Define the Log Likelihood Function needed\n",
    "def LLp(params,p,k):\n",
    "    Lambda = params\n",
    "    ll = []\n",
    "    for i in range(len(p)):\n",
    "        ll = np.append(ll,p[i]*((k[i]*np.log(Lambda))-(Lambda)-(np.log(gamma(k[i]+1)))))                \n",
    "    return ll\n",
    "            \n",
    "# Negative of log likelihood for minimization function\n",
    "def NLLp(params, p, k):\n",
    "    return (-1)*(np.sum(LLp(params, p, k)))\n",
    "\n",
    "# Defining p = 'No of people' and k = 'No of Packs'\n",
    "p = np.array(df['People'])\n",
    "k = np.array(df['Packs'])\n",
    "            \n",
    "# Maximising the log likelihood\n",
    "soln_p = minimize(NLLp,\n",
    "                  args = (p,k),\n",
    "                  x0 = np.array((1)),\n",
    "                  bounds = [(0.000001,None)],\n",
    "                  tol=1e-10,\n",
    "                  options={'ftol' : 1e-8},)\n",
    "\n",
    "# Get the optimal solution\n",
    "Lambda = soln_p.x[0]\n",
    "ll_p = (-1)*(soln_p.fun)\n",
    "print(f\"Optimal Solution for Poisson Model:\")\n",
    "print(f\"Lambda = {round(Lambda,4)}\")\n",
    "print(f\"Log likelihood = {round(ll_p,2)}\")"
   ]
  },
  {
   "cell_type": "markdown",
   "id": "e8b03a05",
   "metadata": {},
   "source": [
    "<hr style=\"border:2px solid black\">\n",
    "(b) NBD Model\n",
    "<hr style=\"border:2px solid black\">"
   ]
  },
  {
   "cell_type": "code",
   "execution_count": 4,
   "id": "f69ecd88",
   "metadata": {},
   "outputs": [
    {
     "name": "stdout",
     "output_type": "stream",
     "text": [
      "Optimal Solution for NBD Model:\n",
      "Shape Parameter, n = 0.997636\n",
      "Scale Paramenter, alpha = 0.24996\n",
      "Log likelihood = -1140.02\n"
     ]
    }
   ],
   "source": [
    "# Define the Log Likelihood Function needed\n",
    "def PROB(params,k,t):\n",
    "    n,alpha = params\n",
    "    if k==0:\n",
    "        return (alpha/(alpha+t))**n\n",
    "    else:\n",
    "        return (((n+k-1)*t)/(k*(alpha+t)))*PROB(params,k-1,t)\n",
    "\n",
    "def LLnbd(params,t,p,K):\n",
    "    ll = []\n",
    "    for i in range(len(p)):\n",
    "        ll = np.append(ll,(p[i]*np.log(PROB(params,K[i],t))))\n",
    "    return ll\n",
    "\n",
    "# Negative of log likelihood for minimization function\n",
    "def NLLnbd(params,t,p,K):\n",
    "    return (-1)*(np.sum(LLnbd(params,t,p,K)))\n",
    "            \n",
    "# Defining p = 'No of people' and K = 'No of Packs'\n",
    "p = np.array(df['People'])\n",
    "K = np.array(df['Packs'])\n",
    "t = 1\n",
    "            \n",
    "# Maximising the log likelihood\n",
    "soln_nbd = minimize(NLLnbd,\n",
    "                    args = (t,p,K),\n",
    "                    x0 = np.array((1,1)),\n",
    "                    bounds = [(0.000001,None),(0.000001,None)],\n",
    "                    tol=1e-10,\n",
    "                    options={'ftol' : 1e-8},)\n",
    "\n",
    "# Get the optimal solution\n",
    "n = soln_nbd.x[0]\n",
    "alpha = soln_nbd.x[1]\n",
    "ll_nbd = (-1)*(soln_nbd.fun)\n",
    "print(f\"Optimal Solution for NBD Model:\")\n",
    "print(f\"Shape Parameter, n = {round(n,6)}\")\n",
    "print(f\"Scale Paramenter, alpha = {round(alpha,6)}\")\n",
    "print(f\"Log likelihood = {round(ll_nbd,2)}\")"
   ]
  },
  {
   "cell_type": "markdown",
   "id": "383c5e18",
   "metadata": {},
   "source": [
    "<hr style=\"border:2px solid black\">\n",
    "(c) Zero Inflated NBD\n",
    "<hr style=\"border:2px solid black\">"
   ]
  },
  {
   "cell_type": "code",
   "execution_count": 5,
   "id": "83063ff5",
   "metadata": {},
   "outputs": [
    {
     "name": "stdout",
     "output_type": "stream",
     "text": [
      "Optimal Solution for Zero-Inflated NBD Model :\n",
      "Fraction, pie = 0.11309\n",
      "Shape Parameter, n = 1.503988\n",
      "Scale Paramenter, alpha = 0.334199\n",
      "Log likelihood = -1136.17\n"
     ]
    }
   ],
   "source": [
    "# Define the Log Likelihood Function needed\n",
    "def PROB(alpha,n,k,t):\n",
    "    if k==0:\n",
    "        return (alpha/(alpha+t))**n\n",
    "    else:\n",
    "        return (((n+k-1)*t)/(k*(alpha+t)))*PROB(alpha,n,k-1,t)\n",
    "\n",
    "def LLzinbd(params,p,K):\n",
    "    pie,alpha,n = params\n",
    "    ll = p[0]*np.log(pie + ((1-pie)*PROB(alpha,n,K[0],1)))\n",
    "    for i in range(1,len(p)):\n",
    "        ll += p[i]*np.log((1-pie)*PROB(alpha,n,K[i],1))\n",
    "    return ll\n",
    "\n",
    "# Negative of log likelihood for minimization function\n",
    "def NLLzinbd(params,p,K):\n",
    "    return (-1)*((LLzinbd(params,p,K)))\n",
    "            \n",
    "# Defining p = 'No of people' and K = 'No of Packs'\n",
    "p = np.array(df['People'])\n",
    "K = np.array(df['Packs'])\n",
    "            \n",
    "# Maximising the log likelihood\n",
    "soln_zinbd = minimize(NLLzinbd,\n",
    "                      args = (p,K),\n",
    "                      x0 = np.array((1,1,1)),\n",
    "                      bounds = [(0.000001,0.999999),(0.000001,None),(0.000001,None)],\n",
    "                      tol=1e-10,\n",
    "                      options={'ftol' : 1e-8},)\n",
    "\n",
    "# Get the optimal solution\n",
    "pie = soln_zinbd.x[0]\n",
    "n = soln_zinbd.x[2]\n",
    "alpha = soln_zinbd.x[1]\n",
    "ll_zinbd = (-1)*(soln_zinbd.fun)\n",
    "print(f\"Optimal Solution for Zero-Inflated NBD Model :\")\n",
    "print(f\"Fraction, pie = {round(pie,6)}\")\n",
    "print(f\"Shape Parameter, n = {round(n,6)}\")\n",
    "print(f\"Scale Paramenter, alpha = {round(alpha,6)}\")\n",
    "print(f\"Log likelihood = {round(ll_zinbd,2)}\")"
   ]
  },
  {
   "cell_type": "markdown",
   "id": "25e4313e",
   "metadata": {},
   "source": [
    "<hr style=\"border:2px solid black\">\n",
    "(d) Finite Mixture Models\n",
    "<hr style=\"border:2px solid black\">"
   ]
  },
  {
   "cell_type": "code",
   "execution_count": 6,
   "id": "f418d060",
   "metadata": {},
   "outputs": [
    {
     "name": "stdout",
     "output_type": "stream",
     "text": [
      "Optimal Solution for 2 Segment Finite Mixture Model:\n",
      "pie1 = 0.2991\n",
      "pie2 = 0.7009\n",
      "Lambda1 = 9.1207\n",
      "Lambda2 = 1.8022\n",
      "Log likelihood = -1188.83\n"
     ]
    }
   ],
   "source": [
    "# Define the Log Likelihood Function needed\n",
    "def LL2seg(params,p,k):\n",
    "    pie,lambda1,lambda2 = params\n",
    "    ll = []\n",
    "    for i in range(len(p)):\n",
    "        ll = np.append(ll,p[i]*(np.log((pie*(poisson.pmf(k[i],lambda1)))+((1-pie)*(poisson.pmf(k[i],lambda2))))))                \n",
    "    return ll\n",
    "            \n",
    "# Negative of log likelihood for minimization function\n",
    "def NLL2seg(params, p, k):\n",
    "    return (-1)*(np.sum(LL2seg(params, p, k)))\n",
    "\n",
    "# Defining p = 'No of people' and k = 'No of Packs'\n",
    "p = np.array(df['People'])\n",
    "k = np.array(df['Packs'])\n",
    "            \n",
    "# Maximising the log likelihood\n",
    "soln_2seg = minimize(NLL2seg,\n",
    "                     args = (p,k),\n",
    "                     x0 = np.array((1,1,1)),\n",
    "                     bounds = [(0.000001,0.999999),(0.000001,None),(0.000001,None)],\n",
    "                     tol=1e-10,\n",
    "                     options={'ftol' : 1e-8},)\n",
    "\n",
    "# Get the optimal solution\n",
    "pie_2seg = soln_2seg.x[0]\n",
    "lambda1_2seg = soln_2seg.x[1]\n",
    "lambda2_2seg = soln_2seg.x[2]\n",
    "ll_2seg = (-1)*(soln_2seg.fun)\n",
    "print(f\"Optimal Solution for 2 Segment Finite Mixture Model:\")\n",
    "print(f\"pie1 = {round(pie_2seg,4)}\")\n",
    "print(f\"pie2 = {round(1-pie_2seg,4)}\")\n",
    "print(f\"Lambda1 = {round(lambda1_2seg,4)}\")\n",
    "print(f\"Lambda2 = {round(lambda2_2seg,4)}\")\n",
    "print(f\"Log likelihood = {round(ll_2seg,2)}\")"
   ]
  },
  {
   "cell_type": "code",
   "execution_count": 7,
   "id": "019d4871",
   "metadata": {},
   "outputs": [
    {
     "name": "stdout",
     "output_type": "stream",
     "text": [
      "Optimal Solution for 3 Segment Finite Mixture Model:\n",
      "pie1 = 0.5433\n",
      "pie2 = 0.18\n",
      "pie3 = 0.2768\n",
      "Lambda1 = 3.4833\n",
      "Lambda2 = 11.2158\n",
      "Lambda3 = 0.2906\n",
      "Log likelihood = -1132.04\n"
     ]
    }
   ],
   "source": [
    "# Define the Log Likelihood Function needed\n",
    "def LL3seg(params,theta3,p,k):\n",
    "    theta1,theta2,lambda1,lambda2,lambda3 = params\n",
    "    ll = []\n",
    "    for i in range(len(p)):\n",
    "        ll = np.append(ll,p[i]*(np.log((((e**(theta1))/((e**(theta1))+(e**(theta2))+(e**(theta3))))*(poisson.pmf(k[i],lambda1)))+(((e**(theta2))/((e**(theta1))+(e**(theta2))+(e**(theta3))))*(poisson.pmf(k[i],lambda2)))+(((e**(theta3))/((e**(theta1))+(e**(theta2))+(e**(theta3))))*(poisson.pmf(k[i],lambda3))))))                \n",
    "    return ll\n",
    "            \n",
    "# Negative of log likelihood for minimization function\n",
    "def NLL3seg(params,theta3,p,k):\n",
    "    return (-1)*(np.sum(LL3seg(params,theta3,p,k)))\n",
    "\n",
    "# Defining p = 'No of people' and k = 'No of Packs'\n",
    "p = np.array(df['People'])\n",
    "k = np.array(df['Packs'])\n",
    "theta3 = 0\n",
    "            \n",
    "# Maximising the log likelihood\n",
    "soln_3seg = minimize(NLL3seg,\n",
    "                     args = (theta3,p,k),\n",
    "                     x0 = np.array((1,2,1,1,1)),\n",
    "                     bounds = [(None,None),(None,None),(0.000001,None),(0.000001,None),(0.000001,None)],\n",
    "                     tol=1e-10,\n",
    "                     options={'ftol' : 1e-8},)\n",
    "\n",
    "# Get the optimal solution\n",
    "pie1_3seg = e**(soln_3seg.x[0])/(e**(soln_3seg.x[0])+e**(soln_3seg.x[1])+1)\n",
    "pie2_3seg = e**(soln_3seg.x[1])/(e**(soln_3seg.x[0])+e**(soln_3seg.x[1])+1)\n",
    "lambda1_3seg = soln_3seg.x[2]\n",
    "lambda2_3seg = soln_3seg.x[3]\n",
    "lambda3_3seg = soln_3seg.x[4]\n",
    "ll_3seg = (-1)*(soln_3seg.fun)\n",
    "print(f\"Optimal Solution for 3 Segment Finite Mixture Model:\")\n",
    "print(f\"pie1 = {round(pie1_3seg,4)}\")\n",
    "print(f\"pie2 = {round(pie2_3seg,4)}\")\n",
    "print(f\"pie3 = {round(1-pie1_3seg-pie2_3seg,4)}\")\n",
    "print(f\"Lambda1 = {round(lambda1_3seg,4)}\")\n",
    "print(f\"Lambda2 = {round(lambda2_3seg,4)}\")\n",
    "print(f\"Lambda3 = {round(lambda3_3seg,4)}\")\n",
    "print(f\"Log likelihood = {round(ll_3seg,2)}\")"
   ]
  },
  {
   "cell_type": "code",
   "execution_count": 8,
   "id": "2fed7829",
   "metadata": {},
   "outputs": [
    {
     "name": "stdout",
     "output_type": "stream",
     "text": [
      "Optimal Solution for 4 Segment Finite Mixture Model:\n",
      "pie1 = 0.1514\n",
      "pie2 = 0.2442\n",
      "pie3 = 0.1017\n",
      "pie4 = 0.5027\n",
      "Lambda1 = 7.4187\n",
      "Lambda2 = 0.2048\n",
      "Lambda3 = 12.8731\n",
      "Lambda4 = 3.0021\n",
      "Log likelihood = -1130.07\n"
     ]
    }
   ],
   "source": [
    "# Define the Log Likelihood Function needed\n",
    "def LL4seg(params,theta4,p,k):\n",
    "    theta1,theta2,theta3,lambda1,lambda2,lambda3,lambda4 = params\n",
    "    ll = []\n",
    "    for i in range(len(p)):\n",
    "        ll = np.append(ll,p[i]*(np.log((((e**(theta1))/((e**(theta1))+(e**(theta2))+(e**(theta3))+(e**(theta4))))*(poisson.pmf(k[i],lambda1)))+(((e**(theta2))/((e**(theta1))+(e**(theta2))+(e**(theta3))+(e**(theta4))))*(poisson.pmf(k[i],lambda2)))+(((e**(theta3))/((e**(theta1))+(e**(theta2))+(e**(theta3))+(e**(theta4))))*(poisson.pmf(k[i],lambda3)))+(((e**(theta4))/((e**(theta1))+(e**(theta2))+(e**(theta3))+(e**(theta4))))*(poisson.pmf(k[i],lambda4))))))                \n",
    "    return ll\n",
    "            \n",
    "# Negative of log likelihood for minimization function\n",
    "def NLL4seg(params,theta4,p,k):\n",
    "    return (-1)*(np.sum(LL4seg(params,theta4,p,k)))\n",
    "\n",
    "# Defining p = 'No of people' and k = 'No of Packs'\n",
    "p = np.array(df['People'])\n",
    "k = np.array(df['Packs'])\n",
    "theta4 = 0\n",
    "            \n",
    "# Maximising the log likelihood\n",
    "soln_4seg = minimize(NLL4seg,\n",
    "                     args = (theta4,p,k),\n",
    "                     x0 = np.array((1,2,3,1,1,1,1)),\n",
    "                     bounds = [(None,None),(None,None),(None,None),(0.000001,None),(0.000001,None),(0.000001,None),(0.000001,None)],\n",
    "                     tol=1e-10,\n",
    "                     options={'ftol' : 1e-8},)\n",
    "\n",
    "# Get the optimal solution\n",
    "pie1_4seg = e**(soln_4seg.x[0])/(e**(soln_4seg.x[0])+e**(soln_4seg.x[1])+e**(soln_4seg.x[2])+1)\n",
    "pie2_4seg = e**(soln_4seg.x[1])/(e**(soln_4seg.x[0])+e**(soln_4seg.x[1])+e**(soln_4seg.x[2])+1)\n",
    "pie3_4seg = e**(soln_4seg.x[2])/(e**(soln_4seg.x[0])+e**(soln_4seg.x[1])+e**(soln_4seg.x[2])+1)\n",
    "lambda1_4seg = soln_4seg.x[3]\n",
    "lambda2_4seg = soln_4seg.x[4]\n",
    "lambda3_4seg = soln_4seg.x[5]\n",
    "lambda4_4seg = soln_4seg.x[6]\n",
    "ll_4seg = (-1)*(soln_4seg.fun)\n",
    "print(f\"Optimal Solution for 4 Segment Finite Mixture Model:\")\n",
    "print(f\"pie1 = {round(pie1_4seg,4)}\")\n",
    "print(f\"pie2 = {round(pie2_4seg,4)}\")\n",
    "print(f\"pie3 = {round(pie3_4seg,4)}\")\n",
    "print(f\"pie4 = {round(1-pie1_4seg-pie2_4seg-pie3_4seg,4)}\")\n",
    "print(f\"Lambda1 = {round(lambda1_4seg,4)}\")\n",
    "print(f\"Lambda2 = {round(lambda2_4seg,4)}\")\n",
    "print(f\"Lambda3 = {round(lambda3_4seg,4)}\")\n",
    "print(f\"Lambda4 = {round(lambda4_4seg,4)}\")\n",
    "print(f\"Log likelihood = {round(ll_4seg,2)}\")"
   ]
  },
  {
   "cell_type": "markdown",
   "id": "bad5cd40",
   "metadata": {},
   "source": [
    "<hr style=\"border:2px solid black\">\n",
    "2. Evaluate the models developed; explain which of them is best, and why. Are there any significant differences among the results from these models? If so, what exactly are these differences? Discuss what you believe could be causing the differences.\n",
    "<hr style=\"border:2px solid black\">"
   ]
  },
  {
   "cell_type": "markdown",
   "id": "0e85e158",
   "metadata": {},
   "source": [
    "<hr style=\"border:2px solid black\">\n",
    "BIC\n",
    "<hr style=\"border:2px solid black\">"
   ]
  },
  {
   "cell_type": "code",
   "execution_count": 9,
   "id": "889aea21",
   "metadata": {},
   "outputs": [
    {
     "name": "stdout",
     "output_type": "stream",
     "text": [
      "BIC for Poisson model is 3096.12\n",
      "BIC for NBD model is 2292.29\n",
      "BIC for Zero-Inflated NBD model is 2290.7\n",
      "BIC for 2 Segment Finite Mixture model is 2396.03\n",
      "BIC for 3 Segment Finite Mixture model is 2294.7\n",
      "BIC for 4 Segment Finite Mixture model is 2303.0\n"
     ]
    }
   ],
   "source": [
    "# BIC: k*ln(n)-2*LL\n",
    "BIC_p = (1*np.log(np.sum(df['People'])))-(2*ll_p)\n",
    "BIC_nbd = (2*np.log(np.sum(df['People'])))-(2*ll_nbd)\n",
    "BIC_zinbd = (3*np.log(np.sum(df['People'])))-(2*ll_zinbd)\n",
    "BIC_2seg = (3*np.log(np.sum(df['People'])))-(2*ll_2seg)\n",
    "BIC_3seg = (5*np.log(np.sum(df['People'])))-(2*ll_3seg)\n",
    "BIC_4seg = (7*np.log(np.sum(df['People'])))-(2*ll_4seg)\n",
    "\n",
    "\n",
    "# Printing the BIC values for all the models\n",
    "print(f\"BIC for Poisson model is {round(BIC_p,2)}\")\n",
    "print(f\"BIC for NBD model is {round(BIC_nbd,2)}\")\n",
    "print(f\"BIC for Zero-Inflated NBD model is {round(BIC_zinbd,2)}\")\n",
    "print(f\"BIC for 2 Segment Finite Mixture model is {round(BIC_2seg,2)}\")\n",
    "print(f\"BIC for 3 Segment Finite Mixture model is {round(BIC_3seg,2)}\")\n",
    "print(f\"BIC for 4 Segment Finite Mixture model is {round(BIC_4seg,2)}\")"
   ]
  },
  {
   "cell_type": "markdown",
   "id": "5fdfedf6",
   "metadata": {},
   "source": [
    "<hr style=\"border:2px solid black\">\n",
    "AIC\n",
    "<hr style=\"border:2px solid black\">"
   ]
  },
  {
   "cell_type": "code",
   "execution_count": 10,
   "id": "8e5e2b29",
   "metadata": {},
   "outputs": [
    {
     "name": "stdout",
     "output_type": "stream",
     "text": [
      "AIC for Poisson model is 3091.99\n",
      "AIC for NBD model is 2284.05\n",
      "AIC for Zero-Inflated NBD model is 2278.33\n",
      "AIC for 2 Segment Finite Mixture model is 2383.67\n",
      "AIC for 3 Segment Finite Mixture model is 2274.09\n",
      "AIC for 4 Segment Finite Mixture model is 2274.14\n"
     ]
    }
   ],
   "source": [
    "# AIC: 2k-2*LL\n",
    "AIC_p = (2*1)-(2*ll_p)\n",
    "AIC_nbd = (2*2)-(2*ll_nbd)\n",
    "AIC_zinbd = (2*3)-(2*ll_zinbd)\n",
    "AIC_2seg = (2*3)-(2*ll_2seg)\n",
    "AIC_3seg = (2*5)-(2*ll_3seg)\n",
    "AIC_4seg = (2*7)-(2*ll_4seg)\n",
    "\n",
    "# Printing the AIC values for all the models\n",
    "print(f\"AIC for Poisson model is {round(AIC_p,2)}\")\n",
    "print(f\"AIC for NBD model is {round(AIC_nbd,2)}\")\n",
    "print(f\"AIC for Zero-Inflated NBD model is {round(AIC_zinbd,2)}\")\n",
    "print(f\"AIC for 2 Segment Finite Mixture model is {round(AIC_2seg,2)}\")\n",
    "print(f\"AIC for 3 Segment Finite Mixture model is {round(AIC_3seg,2)}\")\n",
    "print(f\"AIC for 4 Segment Finite Mixture model is {round(AIC_4seg,2)}\")"
   ]
  },
  {
   "cell_type": "markdown",
   "id": "9b08b5e0",
   "metadata": {},
   "source": [
    "<hr style=\"border:2px solid black\">\n",
    "3. Based on the 2, 3, and 4-segment finite mixture models, how many packs are the following customers likely to purchase over the next 8 weeks?\n",
    "\n",
    "(a) a customer who purchased 5 packs in the past week, and   \n",
    "(b) a customer who purchased 9 packs in the past week.\n",
    "<hr style=\"border:2px solid black\">"
   ]
  },
  {
   "cell_type": "markdown",
   "id": "73d929da",
   "metadata": {},
   "source": [
    "<hr style=\"border:2px solid black\">\n",
    "(a) a customer who purchased 5 packs in the past week\n",
    "<hr style=\"border:2px solid black\">"
   ]
  },
  {
   "cell_type": "markdown",
   "id": "0a186090",
   "metadata": {},
   "source": [
    "<hr style=\"border:2px solid black\">\n",
    "(i) 2 Segment Finite Mixture model\n",
    "<hr style=\"border:2px solid black\">"
   ]
  },
  {
   "cell_type": "code",
   "execution_count": 11,
   "id": "15d37ffd",
   "metadata": {},
   "outputs": [
    {
     "name": "stdout",
     "output_type": "stream",
     "text": [
      "For the 2 Segment Finite Mixture model:\n",
      "Probability of customer being in segment 1 is 0.4845\n",
      "Probability of customer being in segment 2 is 0.5155\n",
      "Expected number of purchases in 8 weeks is 42.78\n"
     ]
    }
   ],
   "source": [
    "P2_seg1 = ((pie_2seg)*(poisson.pmf(5,lambda1_2seg)))/(((pie_2seg)*(poisson.pmf(5,lambda1_2seg)))+((1-pie_2seg)*(poisson.pmf(5,lambda2_2seg))))\n",
    "P2_seg2 = ((1-pie_2seg)*(poisson.pmf(5,lambda2_2seg)))/(((pie_2seg)*(poisson.pmf(5,lambda1_2seg)))+((1-pie_2seg)*(poisson.pmf(5,lambda2_2seg))))\n",
    "\n",
    "Exp_2seg = 8*((lambda1_2seg*P2_seg1)+(lambda2_2seg*P2_seg2))\n",
    "\n",
    "print(f\"For the 2 Segment Finite Mixture model:\")\n",
    "print(f\"Probability of customer being in segment 1 is {round(P2_seg1,4)}\")\n",
    "print(f\"Probability of customer being in segment 2 is {round(P2_seg2,4)}\")\n",
    "print(f\"Expected number of purchases in 8 weeks is {round(Exp_2seg,2)}\")"
   ]
  },
  {
   "cell_type": "code",
   "execution_count": 12,
   "id": "acf7f4bd",
   "metadata": {},
   "outputs": [
    {
     "name": "stdout",
     "output_type": "stream",
     "text": [
      "If classifying customers into segment 2:\n",
      "Expected number of purchases in 8 weeks is 14.42\n"
     ]
    }
   ],
   "source": [
    "# If classifying customers into segment 2\n",
    "Exp_2seg_ = 8*(lambda2_2seg)\n",
    "\n",
    "print(f\"If classifying customers into segment 2:\")\n",
    "print(f\"Expected number of purchases in 8 weeks is {round(Exp_2seg_,2)}\")"
   ]
  },
  {
   "cell_type": "markdown",
   "id": "aac669fb",
   "metadata": {},
   "source": [
    "<hr style=\"border:2px solid black\">\n",
    "(ii) 3 Segment Finite Mixture model\n",
    "<hr style=\"border:2px solid black\">"
   ]
  },
  {
   "cell_type": "code",
   "execution_count": 13,
   "id": "c2ffa596",
   "metadata": {},
   "outputs": [
    {
     "name": "stdout",
     "output_type": "stream",
     "text": [
      "For the 3 Segment Finite Mixture model:\n",
      "Probability of customer being in segment 1 is 0.9521\n",
      "Probability of customer being in segment 2 is 0.0478\n",
      "Probability of customer being in segment 3 is 0.0\n",
      "Expected number of purchases in 8 weeks is 30.83\n"
     ]
    }
   ],
   "source": [
    "P3_seg1 = ((pie1_3seg)*(poisson.pmf(5,lambda1_3seg)))/(((pie1_3seg)*(poisson.pmf(5,lambda1_3seg)))+((pie2_3seg)*(poisson.pmf(5,lambda2_3seg)))+((1-pie1_3seg-pie2_3seg)*(poisson.pmf(5,lambda3_3seg))))\n",
    "P3_seg2 = ((pie2_3seg)*(poisson.pmf(5,lambda2_3seg)))/(((pie1_3seg)*(poisson.pmf(5,lambda1_3seg)))+((pie2_3seg)*(poisson.pmf(5,lambda2_3seg)))+((1-pie1_3seg-pie2_3seg)*(poisson.pmf(5,lambda3_3seg))))\n",
    "P3_seg3 = ((1-pie1_3seg-pie2_3seg)*(poisson.pmf(5,lambda3_3seg)))/(((pie1_3seg)*(poisson.pmf(5,lambda1_3seg)))+((pie2_3seg)*(poisson.pmf(5,lambda2_3seg)))+((1-pie1_3seg-pie2_3seg)*(poisson.pmf(5,lambda3_3seg))))\n",
    "\n",
    "Exp_3seg = 8*((lambda1_3seg*P3_seg1)+(lambda2_3seg*P3_seg2)+(lambda3_3seg*P3_seg3))\n",
    "\n",
    "print(f\"For the 3 Segment Finite Mixture model:\")\n",
    "print(f\"Probability of customer being in segment 1 is {round(P3_seg1,4)}\")\n",
    "print(f\"Probability of customer being in segment 2 is {round(P3_seg2,4)}\")\n",
    "print(f\"Probability of customer being in segment 3 is {round(P3_seg3,4)}\")\n",
    "print(f\"Expected number of purchases in 8 weeks is {round(Exp_3seg,2)}\")"
   ]
  },
  {
   "cell_type": "code",
   "execution_count": 14,
   "id": "302d13a1",
   "metadata": {},
   "outputs": [
    {
     "name": "stdout",
     "output_type": "stream",
     "text": [
      "If classifying customers into segment 1:\n",
      "Expected number of purchases in 8 weeks is 27.87\n"
     ]
    }
   ],
   "source": [
    "# If classifying customers into segment 1\n",
    "Exp_3seg_ = 8*(lambda1_3seg)\n",
    "\n",
    "print(f\"If classifying customers into segment 1:\")\n",
    "print(f\"Expected number of purchases in 8 weeks is {round(Exp_3seg_,2)}\")"
   ]
  },
  {
   "cell_type": "markdown",
   "id": "ee78d0f6",
   "metadata": {},
   "source": [
    "<hr style=\"border:2px solid black\">\n",
    "(iii) 4 Segment Finite Mixture model\n",
    "<hr style=\"border:2px solid black\">"
   ]
  },
  {
   "cell_type": "code",
   "execution_count": 15,
   "id": "f24e523c",
   "metadata": {},
   "outputs": [
    {
     "name": "stdout",
     "output_type": "stream",
     "text": [
      "For the 4 Segment Finite Mixture model:\n",
      "Probability of customer being in segment 1 is 0.2482\n",
      "Probability of customer being in segment 2 is 0.0\n",
      "Probability of customer being in segment 3 is 0.0112\n",
      "Probability of customer being in segment 4 is 0.7406\n",
      "Expected number of purchases in 8 weeks is 33.67\n"
     ]
    }
   ],
   "source": [
    "P4_seg1 = ((pie1_4seg)*(poisson.pmf(5,lambda1_4seg)))/(((pie1_4seg)*(poisson.pmf(5,lambda1_4seg)))+((pie2_4seg)*(poisson.pmf(5,lambda2_4seg)))+((pie3_4seg)*(poisson.pmf(5,lambda3_4seg)))+((1-pie1_4seg-pie2_4seg-pie3_4seg)*(poisson.pmf(5,lambda4_4seg))))\n",
    "P4_seg2 = ((pie2_4seg)*(poisson.pmf(5,lambda2_4seg)))/(((pie1_4seg)*(poisson.pmf(5,lambda1_4seg)))+((pie2_4seg)*(poisson.pmf(5,lambda2_4seg)))+((pie3_4seg)*(poisson.pmf(5,lambda3_4seg)))+((1-pie1_4seg-pie2_4seg-pie3_4seg)*(poisson.pmf(5,lambda4_4seg))))\n",
    "P4_seg3 = ((pie3_4seg)*(poisson.pmf(5,lambda3_4seg)))/(((pie1_4seg)*(poisson.pmf(5,lambda1_4seg)))+((pie2_4seg)*(poisson.pmf(5,lambda2_4seg)))+((pie3_4seg)*(poisson.pmf(5,lambda3_4seg)))+((1-pie1_4seg-pie2_4seg-pie3_4seg)*(poisson.pmf(5,lambda4_4seg))))\n",
    "P4_seg4 = ((1-pie1_4seg-pie2_4seg-pie3_4seg)*(poisson.pmf(5,lambda4_4seg)))/(((pie1_4seg)*(poisson.pmf(5,lambda1_4seg)))+((pie2_4seg)*(poisson.pmf(5,lambda2_4seg)))+((pie3_4seg)*(poisson.pmf(5,lambda3_4seg)))+((1-pie1_4seg-pie2_4seg-pie3_4seg)*(poisson.pmf(5,lambda4_4seg))))\n",
    "\n",
    "Exp_4seg = 8*((lambda1_4seg*P4_seg1)+(lambda2_4seg*P4_seg2)+(lambda3_4seg*P4_seg3)+(lambda4_4seg*P4_seg4))\n",
    "\n",
    "print(f\"For the 4 Segment Finite Mixture model:\")\n",
    "print(f\"Probability of customer being in segment 1 is {round(P4_seg1,4)}\")\n",
    "print(f\"Probability of customer being in segment 2 is {round(P4_seg2,4)}\")\n",
    "print(f\"Probability of customer being in segment 3 is {round(P4_seg3,4)}\")\n",
    "print(f\"Probability of customer being in segment 4 is {round(P4_seg4,4)}\")\n",
    "print(f\"Expected number of purchases in 8 weeks is {round(Exp_4seg,2)}\")"
   ]
  },
  {
   "cell_type": "code",
   "execution_count": 16,
   "id": "4cd195c1",
   "metadata": {},
   "outputs": [
    {
     "name": "stdout",
     "output_type": "stream",
     "text": [
      "If classifying customers into segment 4:\n",
      "Expected number of purchases in 8 weeks is 24.02\n"
     ]
    }
   ],
   "source": [
    "# If classifying customers into segment 4\n",
    "Exp_4seg_ = 8*(lambda4_4seg)\n",
    "\n",
    "print(f\"If classifying customers into segment 4:\")\n",
    "print(f\"Expected number of purchases in 8 weeks is {round(Exp_4seg_,2)}\")"
   ]
  },
  {
   "cell_type": "markdown",
   "id": "3f1a6593",
   "metadata": {},
   "source": [
    "<hr style=\"border:2px solid black\">\n",
    "(b) a customer who purchased 9 packs in the past week\n",
    "<hr style=\"border:2px solid black\">"
   ]
  },
  {
   "cell_type": "markdown",
   "id": "3e6d1e6d",
   "metadata": {},
   "source": [
    "<hr style=\"border:2px solid black\">\n",
    "(i) 2 Segment Finite Mixture model\n",
    "<hr style=\"border:2px solid black\">"
   ]
  },
  {
   "cell_type": "code",
   "execution_count": 17,
   "id": "5c097f57",
   "metadata": {},
   "outputs": [
    {
     "name": "stdout",
     "output_type": "stream",
     "text": [
      "For the 2 Segment Finite Mixture model:\n",
      "Probability of customer being in segment 1 is 0.9984\n",
      "Probability of customer being in segment 2 is 0.0016\n",
      "Expected number of purchases in 8 weeks is 72.87\n"
     ]
    }
   ],
   "source": [
    "P2_seg1 = ((pie_2seg)*(poisson.pmf(9,lambda1_2seg)))/(((pie_2seg)*(poisson.pmf(9,lambda1_2seg)))+((1-pie_2seg)*(poisson.pmf(9,lambda2_2seg))))\n",
    "P2_seg2 = ((1-pie_2seg)*(poisson.pmf(9,lambda2_2seg)))/(((pie_2seg)*(poisson.pmf(9,lambda1_2seg)))+((1-pie_2seg)*(poisson.pmf(9,lambda2_2seg))))\n",
    "\n",
    "Exp_2seg = 8*((lambda1_2seg*P2_seg1)+(lambda2_2seg*P2_seg2))\n",
    "\n",
    "print(f\"For the 2 Segment Finite Mixture model:\")\n",
    "print(f\"Probability of customer being in segment 1 is {round(P2_seg1,4)}\")\n",
    "print(f\"Probability of customer being in segment 2 is {round(P2_seg2,4)}\")\n",
    "print(f\"Expected number of purchases in 8 weeks is {round(Exp_2seg,2)}\")"
   ]
  },
  {
   "cell_type": "code",
   "execution_count": 18,
   "id": "ba9c6ee9",
   "metadata": {},
   "outputs": [
    {
     "name": "stdout",
     "output_type": "stream",
     "text": [
      "If classifying customers into segment 1:\n",
      "Expected number of purchases in 8 weeks is 72.97\n"
     ]
    }
   ],
   "source": [
    "# If classifying customers into segment 1\n",
    "Exp_2seg_ = 8*(lambda1_2seg)\n",
    "\n",
    "print(f\"If classifying customers into segment 1:\")\n",
    "print(f\"Expected number of purchases in 8 weeks is {round(Exp_2seg_,2)}\")"
   ]
  },
  {
   "cell_type": "markdown",
   "id": "2f00c51c",
   "metadata": {},
   "source": [
    "<hr style=\"border:2px solid black\">\n",
    "(ii) 3 Segment Finite Mixture model\n",
    "<hr style=\"border:2px solid black\">"
   ]
  },
  {
   "cell_type": "code",
   "execution_count": 19,
   "id": "7e41f749",
   "metadata": {},
   "outputs": [
    {
     "name": "stdout",
     "output_type": "stream",
     "text": [
      "For the 3 Segment Finite Mixture model:\n",
      "Probability of customer being in segment 1 is 0.1562\n",
      "Probability of customer being in segment 2 is 0.8438\n",
      "Probability of customer being in segment 3 is 0.0\n",
      "Expected number of purchases in 8 weeks is 80.06\n"
     ]
    }
   ],
   "source": [
    "P3_seg1 = ((pie1_3seg)*(poisson.pmf(9,lambda1_3seg)))/(((pie1_3seg)*(poisson.pmf(9,lambda1_3seg)))+((pie2_3seg)*(poisson.pmf(9,lambda2_3seg)))+((1-pie1_3seg-pie2_3seg)*(poisson.pmf(9,lambda3_3seg))))\n",
    "P3_seg2 = ((pie2_3seg)*(poisson.pmf(9,lambda2_3seg)))/(((pie1_3seg)*(poisson.pmf(9,lambda1_3seg)))+((pie2_3seg)*(poisson.pmf(9,lambda2_3seg)))+((1-pie1_3seg-pie2_3seg)*(poisson.pmf(9,lambda3_3seg))))\n",
    "P3_seg3 = ((1-pie1_3seg-pie2_3seg)*(poisson.pmf(9,lambda3_3seg)))/(((pie1_3seg)*(poisson.pmf(9,lambda1_3seg)))+((pie2_3seg)*(poisson.pmf(9,lambda2_3seg)))+((1-pie1_3seg-pie2_3seg)*(poisson.pmf(9,lambda3_3seg))))\n",
    "\n",
    "Exp_3seg = 8*((lambda1_3seg*P3_seg1)+(lambda2_3seg*P3_seg2)+(lambda3_3seg*P3_seg3))\n",
    "\n",
    "print(f\"For the 3 Segment Finite Mixture model:\")\n",
    "print(f\"Probability of customer being in segment 1 is {round(P3_seg1,4)}\")\n",
    "print(f\"Probability of customer being in segment 2 is {round(P3_seg2,4)}\")\n",
    "print(f\"Probability of customer being in segment 3 is {round(P3_seg3,4)}\")\n",
    "print(f\"Expected number of purchases in 8 weeks is {round(Exp_3seg,2)}\")"
   ]
  },
  {
   "cell_type": "code",
   "execution_count": 20,
   "id": "4a02befa",
   "metadata": {},
   "outputs": [
    {
     "name": "stdout",
     "output_type": "stream",
     "text": [
      "If classifying customers into segment 2:\n",
      "Expected number of purchases in 8 weeks is 89.73\n"
     ]
    }
   ],
   "source": [
    "# If classifying customers into segment 2\n",
    "Exp_3seg_ = 8*(lambda2_3seg)\n",
    "\n",
    "print(f\"If classifying customers into segment 2:\")\n",
    "print(f\"Expected number of purchases in 8 weeks is {round(Exp_3seg_,2)}\")"
   ]
  },
  {
   "cell_type": "markdown",
   "id": "58cd6b51",
   "metadata": {},
   "source": [
    "<hr style=\"border:2px solid black\">\n",
    "(iii) 4 Segment Finite Mixture model\n",
    "<hr style=\"border:2px solid black\">"
   ]
  },
  {
   "cell_type": "code",
   "execution_count": 21,
   "id": "d7bcb60a",
   "metadata": {
    "scrolled": true
   },
   "outputs": [
    {
     "name": "stdout",
     "output_type": "stream",
     "text": [
      "For the 4 Segment Finite Mixture model:\n",
      "Probability of customer being in segment 1 is 0.6712\n",
      "Probability of customer being in segment 2 is 0.0\n",
      "Probability of customer being in segment 3 is 0.2751\n",
      "Probability of customer being in segment 4 is 0.0537\n",
      "Expected number of purchases in 8 weeks is 69.45\n"
     ]
    }
   ],
   "source": [
    "P4_seg1 = ((pie1_4seg)*(poisson.pmf(9,lambda1_4seg)))/(((pie1_4seg)*(poisson.pmf(9,lambda1_4seg)))+((pie2_4seg)*(poisson.pmf(9,lambda2_4seg)))+((pie3_4seg)*(poisson.pmf(9,lambda3_4seg)))+((1-pie1_4seg-pie2_4seg-pie3_4seg)*(poisson.pmf(9,lambda4_4seg))))\n",
    "P4_seg2 = ((pie2_4seg)*(poisson.pmf(9,lambda2_4seg)))/(((pie1_4seg)*(poisson.pmf(9,lambda1_4seg)))+((pie2_4seg)*(poisson.pmf(9,lambda2_4seg)))+((pie3_4seg)*(poisson.pmf(9,lambda3_4seg)))+((1-pie1_4seg-pie2_4seg-pie3_4seg)*(poisson.pmf(9,lambda4_4seg))))\n",
    "P4_seg3 = ((pie3_4seg)*(poisson.pmf(9,lambda3_4seg)))/(((pie1_4seg)*(poisson.pmf(9,lambda1_4seg)))+((pie2_4seg)*(poisson.pmf(9,lambda2_4seg)))+((pie3_4seg)*(poisson.pmf(9,lambda3_4seg)))+((1-pie1_4seg-pie2_4seg-pie3_4seg)*(poisson.pmf(9,lambda4_4seg))))\n",
    "P4_seg4 = ((1-pie1_4seg-pie2_4seg-pie3_4seg)*(poisson.pmf(9,lambda4_4seg)))/(((pie1_4seg)*(poisson.pmf(9,lambda1_4seg)))+((pie2_4seg)*(poisson.pmf(9,lambda2_4seg)))+((pie3_4seg)*(poisson.pmf(9,lambda3_4seg)))+((1-pie1_4seg-pie2_4seg-pie3_4seg)*(poisson.pmf(9,lambda4_4seg))))\n",
    "\n",
    "Exp_4seg = 8*((lambda1_4seg*P4_seg1)+(lambda2_4seg*P4_seg2)+(lambda3_4seg*P4_seg3)+(lambda4_4seg*P4_seg4))\n",
    "\n",
    "print(f\"For the 4 Segment Finite Mixture model:\")\n",
    "print(f\"Probability of customer being in segment 1 is {round(P4_seg1,4)}\")\n",
    "print(f\"Probability of customer being in segment 2 is {round(P4_seg2,4)}\")\n",
    "print(f\"Probability of customer being in segment 3 is {round(P4_seg3,4)}\")\n",
    "print(f\"Probability of customer being in segment 4 is {round(P4_seg4,4)}\")\n",
    "print(f\"Expected number of purchases in 8 weeks is {round(Exp_4seg,2)}\")"
   ]
  },
  {
   "cell_type": "code",
   "execution_count": 22,
   "id": "729b5bff",
   "metadata": {},
   "outputs": [
    {
     "name": "stdout",
     "output_type": "stream",
     "text": [
      "If classifying customers into segment 1:\n",
      "Expected number of purchases in 8 weeks is 59.35\n"
     ]
    }
   ],
   "source": [
    "# If classifying customers into segment 1\n",
    "Exp_4seg_ = 8*(lambda1_4seg)\n",
    "\n",
    "print(f\"If classifying customers into segment 1:\")\n",
    "print(f\"Expected number of purchases in 8 weeks is {round(Exp_4seg_,2)}\")"
   ]
  },
  {
   "cell_type": "markdown",
   "id": "1249c15f",
   "metadata": {},
   "source": [
    "# PART II: Analysis of New Data"
   ]
  },
  {
   "cell_type": "markdown",
   "id": "aca6f49a",
   "metadata": {},
   "source": [
    "<hr style=\"border:2px solid black\">\n",
    "articles.csv contains the number of publications by 915 doctoral candidates (articles), along with five predictors:\n",
    "\n",
    "1. female: 1 if candidate was female, 0 otherwise \n",
    "\n",
    "2. married: 1 if candidate was married, 0 otherwise\n",
    "\n",
    "3. kids: number of children aged <= 5\n",
    "\n",
    "4. prestige: prestige of the candidate's department (higher is better)\n",
    "\n",
    "5. mentorpubs: number of publications by the candidate's mentor over the past 3 years\n",
    "\n",
    "Your task is to to predict the number of articles as a function of the five independent variables.\n",
    "<hr style=\"border:2px solid black\">"
   ]
  },
  {
   "cell_type": "code",
   "execution_count": 23,
   "id": "cb5db4bf",
   "metadata": {},
   "outputs": [
    {
     "data": {
      "text/html": [
       "<div>\n",
       "<style scoped>\n",
       "    .dataframe tbody tr th:only-of-type {\n",
       "        vertical-align: middle;\n",
       "    }\n",
       "\n",
       "    .dataframe tbody tr th {\n",
       "        vertical-align: top;\n",
       "    }\n",
       "\n",
       "    .dataframe thead th {\n",
       "        text-align: right;\n",
       "    }\n",
       "</style>\n",
       "<table border=\"1\" class=\"dataframe\">\n",
       "  <thead>\n",
       "    <tr style=\"text-align: right;\">\n",
       "      <th></th>\n",
       "      <th>articles</th>\n",
       "      <th>female</th>\n",
       "      <th>married</th>\n",
       "      <th>kids</th>\n",
       "      <th>prestige</th>\n",
       "      <th>menpubs</th>\n",
       "    </tr>\n",
       "  </thead>\n",
       "  <tbody>\n",
       "    <tr>\n",
       "      <th>0</th>\n",
       "      <td>0</td>\n",
       "      <td>0</td>\n",
       "      <td>1</td>\n",
       "      <td>0</td>\n",
       "      <td>2.52</td>\n",
       "      <td>7</td>\n",
       "    </tr>\n",
       "    <tr>\n",
       "      <th>1</th>\n",
       "      <td>0</td>\n",
       "      <td>1</td>\n",
       "      <td>0</td>\n",
       "      <td>0</td>\n",
       "      <td>2.05</td>\n",
       "      <td>6</td>\n",
       "    </tr>\n",
       "    <tr>\n",
       "      <th>2</th>\n",
       "      <td>0</td>\n",
       "      <td>1</td>\n",
       "      <td>0</td>\n",
       "      <td>0</td>\n",
       "      <td>3.75</td>\n",
       "      <td>6</td>\n",
       "    </tr>\n",
       "    <tr>\n",
       "      <th>3</th>\n",
       "      <td>0</td>\n",
       "      <td>0</td>\n",
       "      <td>1</td>\n",
       "      <td>1</td>\n",
       "      <td>1.18</td>\n",
       "      <td>3</td>\n",
       "    </tr>\n",
       "    <tr>\n",
       "      <th>4</th>\n",
       "      <td>0</td>\n",
       "      <td>1</td>\n",
       "      <td>0</td>\n",
       "      <td>0</td>\n",
       "      <td>3.75</td>\n",
       "      <td>26</td>\n",
       "    </tr>\n",
       "    <tr>\n",
       "      <th>...</th>\n",
       "      <td>...</td>\n",
       "      <td>...</td>\n",
       "      <td>...</td>\n",
       "      <td>...</td>\n",
       "      <td>...</td>\n",
       "      <td>...</td>\n",
       "    </tr>\n",
       "    <tr>\n",
       "      <th>910</th>\n",
       "      <td>11</td>\n",
       "      <td>0</td>\n",
       "      <td>1</td>\n",
       "      <td>2</td>\n",
       "      <td>2.86</td>\n",
       "      <td>7</td>\n",
       "    </tr>\n",
       "    <tr>\n",
       "      <th>911</th>\n",
       "      <td>12</td>\n",
       "      <td>0</td>\n",
       "      <td>1</td>\n",
       "      <td>1</td>\n",
       "      <td>4.29</td>\n",
       "      <td>35</td>\n",
       "    </tr>\n",
       "    <tr>\n",
       "      <th>912</th>\n",
       "      <td>12</td>\n",
       "      <td>0</td>\n",
       "      <td>1</td>\n",
       "      <td>1</td>\n",
       "      <td>1.86</td>\n",
       "      <td>5</td>\n",
       "    </tr>\n",
       "    <tr>\n",
       "      <th>913</th>\n",
       "      <td>16</td>\n",
       "      <td>0</td>\n",
       "      <td>1</td>\n",
       "      <td>0</td>\n",
       "      <td>1.74</td>\n",
       "      <td>21</td>\n",
       "    </tr>\n",
       "    <tr>\n",
       "      <th>914</th>\n",
       "      <td>19</td>\n",
       "      <td>0</td>\n",
       "      <td>1</td>\n",
       "      <td>0</td>\n",
       "      <td>1.86</td>\n",
       "      <td>42</td>\n",
       "    </tr>\n",
       "  </tbody>\n",
       "</table>\n",
       "<p>915 rows × 6 columns</p>\n",
       "</div>"
      ],
      "text/plain": [
       "     articles  female  married  kids  prestige  menpubs\n",
       "0           0       0        1     0      2.52        7\n",
       "1           0       1        0     0      2.05        6\n",
       "2           0       1        0     0      3.75        6\n",
       "3           0       0        1     1      1.18        3\n",
       "4           0       1        0     0      3.75       26\n",
       "..        ...     ...      ...   ...       ...      ...\n",
       "910        11       0        1     2      2.86        7\n",
       "911        12       0        1     1      4.29       35\n",
       "912        12       0        1     1      1.86        5\n",
       "913        16       0        1     0      1.74       21\n",
       "914        19       0        1     0      1.86       42\n",
       "\n",
       "[915 rows x 6 columns]"
      ]
     },
     "execution_count": 23,
     "metadata": {},
     "output_type": "execute_result"
    }
   ],
   "source": [
    "os.chdir(r'D:\\ACADS\\SEMESTER I\\BUAN 6383\\PROJECTS\\PROJECT 2')\n",
    "df1 = pd.read_csv(r'articles.csv')\n",
    "df1"
   ]
  },
  {
   "cell_type": "code",
   "execution_count": 24,
   "id": "0e0acfcc",
   "metadata": {},
   "outputs": [
    {
     "data": {
      "text/plain": [
       "articles    0\n",
       "female      0\n",
       "married     0\n",
       "kids        0\n",
       "prestige    0\n",
       "menpubs     0\n",
       "dtype: int64"
      ]
     },
     "execution_count": 24,
     "metadata": {},
     "output_type": "execute_result"
    }
   ],
   "source": [
    "df1.isnull().sum()"
   ]
  },
  {
   "cell_type": "markdown",
   "id": "d3f5a52c",
   "metadata": {},
   "source": [
    "# QUESTION 1 "
   ]
  },
  {
   "cell_type": "markdown",
   "id": "da59c990",
   "metadata": {},
   "source": [
    "<hr style=\"border:2px solid black\">\n",
    "1. Estimate all relevant parameters for Poisson regression using MLE. Report your code, the estimated parameters and the maximum value of the log-likelihood. What are the managerial takeaways | which customer characteristics seem to be important?\n",
    "<hr style=\"border:2px solid black\">"
   ]
  },
  {
   "cell_type": "code",
   "execution_count": 25,
   "id": "32f1946f",
   "metadata": {},
   "outputs": [
    {
     "name": "stdout",
     "output_type": "stream",
     "text": [
      "Optimal Solution for Poisson Regression Model:\n",
      "lambda0 = 1.3568\n",
      "beta1 = -0.2246\n",
      "beta2 = 0.1551\n",
      "beta3 = -0.185\n",
      "beta4 = 0.0127\n",
      "beta5 = 0.0255\n",
      "Log likelihood = -1651.06\n"
     ]
    }
   ],
   "source": [
    "# Define the Log Likelihood Function needed\n",
    "# We divide the log likelihood into 3 parts and calculate the total sum\n",
    "def PART1(params,l,k):\n",
    "    #beta1,beta2,beta3,beta4,beta5,lambda0 = params\n",
    "    sigma1 = 0\n",
    "    for i in range(len(k)):\n",
    "        reg = 0\n",
    "        for j in range(len(l[i])):\n",
    "            reg += params[j]*l[i][j]\n",
    "        reg = np.log((e**(reg))*(params[j+1]))\n",
    "        sigma1 += k[i]*reg\n",
    "    return sigma1\n",
    "\n",
    "def PART2(params,l):\n",
    "    #beta1,beta2,beta3,beta4,beta5 = params\n",
    "    sigma2 = 0\n",
    "    for i in range(len(l)):\n",
    "        reg = 0\n",
    "        for j in range(len(l[i])):\n",
    "            reg += params[j]*l[i][j]\n",
    "        sigma2 += e**(reg)\n",
    "    return params[len(params)-1]*sigma2\n",
    "\n",
    "def PART3(k):\n",
    "    sigma3 = 0\n",
    "    for i in k:\n",
    "        sigma3 += np.log(float(factorial(i)))\n",
    "    return sigma3\n",
    "\n",
    "def LLpr(params,l,k):\n",
    "    return -1*(PART1(params,l,k)-PART2(params,l)-PART3(k))\n",
    "\n",
    "# Defining parameters and maximising log likelihood\n",
    "l = np.array(df1[['female','married','kids','prestige','menpubs']])\n",
    "k = np.array(df1['articles'])\n",
    "soln_pr = minimize(LLpr,\n",
    "                   args = (l,k),\n",
    "                   x0 = np.array((0.1,0.1,0.1,0.1,0.1,1)),\n",
    "                   bounds=[(None,None),(None,None),(None,None),(None,None),(None,None),(0.000001,None)],\n",
    "                   tol=1e-10,\n",
    "                   options={'ftol' : 1e-8})\n",
    "\n",
    "# Get the optimal solution\n",
    "beta1 = soln_pr.x[0]\n",
    "beta2 = soln_pr.x[1]\n",
    "beta3 = soln_pr.x[2]\n",
    "beta4 = soln_pr.x[3]\n",
    "beta5 = soln_pr.x[4]\n",
    "lambda0 = soln_pr.x[5]\n",
    "ll_pr = (-1)*soln_pr.fun\n",
    "print(f\"Optimal Solution for Poisson Regression Model:\")\n",
    "print(f\"lambda0 = {round(lambda0,4)}\")\n",
    "print(f\"beta1 = {round(beta1,4)}\")\n",
    "print(f\"beta2 = {round(beta2,4)}\")\n",
    "print(f\"beta3 = {round(beta3,4)}\")\n",
    "print(f\"beta4 = {round(beta4,4)}\")\n",
    "print(f\"beta5 = {round(beta5,4)}\")\n",
    "print(f\"Log likelihood = {round(ll_pr,2)}\")       "
   ]
  },
  {
   "cell_type": "markdown",
   "id": "8fe09da6",
   "metadata": {},
   "source": [
    "# QUESTION 2"
   ]
  },
  {
   "cell_type": "markdown",
   "id": "f7f8b265",
   "metadata": {},
   "source": [
    "<hr style=\"border:2px solid black\">\n",
    "2. Estimate all relevant parameters for NBD Regression using MLE. Report your code, the estimated parameters and the maximum value of the log-likelihood. What are the managerial takeaways | which customer characteristics seem to be important?\n",
    "<hr style=\"border:2px solid black\">"
   ]
  },
  {
   "cell_type": "code",
   "execution_count": 26,
   "id": "09d8f57a",
   "metadata": {},
   "outputs": [
    {
     "name": "stdout",
     "output_type": "stream",
     "text": [
      "Optimal Solution for NBD Regression Model:\n",
      "n = 2.2646\n",
      "alpha = 1.7534\n",
      "beta1 = -0.2163\n",
      "beta2 = 0.1505\n",
      "beta3 = -0.1763\n",
      "beta4 = 0.0153\n",
      "beta5 = 0.0291\n",
      "Log likelihood = -1560.958347\n"
     ]
    }
   ],
   "source": [
    "# Define the Log Likelihood Function needed\n",
    "# As we are unable to proper optimization with a single function due to log,\n",
    "# we divide the log likelihood into 2 parts and calculate the total sum\n",
    "\n",
    "def PART1(params,l,k):\n",
    "    n = params[len(l)+1]\n",
    "    log_num = np.log(gamma(n+k))\n",
    "    log_denom1 = np.log(gamma(n))\n",
    "    log_denom2 = np.log(gamma(k+1))\n",
    "    return log_num - (log_denom1 + log_denom2)\n",
    "\n",
    "def PART2(params,l,k):\n",
    "    alpha = params[len(l)]\n",
    "    n = params[len(l)+1]\n",
    "    reg = 0\n",
    "    for j in range(len(l)):\n",
    "        reg += params[j]*l[j]\n",
    "    exp = e**reg\n",
    "    log1 = n*(np.log(alpha) - np.log(alpha+exp))\n",
    "    log2 = k*(np.log(exp) - np.log(alpha+exp))\n",
    "    return log1 + log2\n",
    "\n",
    "def LLnbdr(params,l,k):\n",
    "    ll = []\n",
    "    for i in range(len(k)):\n",
    "        ll = np.append(ll,(PART1(params,l[i],int(k[i])) + PART2(params,l[i],int(k[i]))))\n",
    "    return ll\n",
    "\n",
    "# Negative of log likelihood for minimization function\n",
    "def NLLnbdr(params,l,k):\n",
    "    return (-1)*np.sum(LLnbdr(params,l,k))\n",
    "\n",
    "# Defining parameters and maximising log likelihood\n",
    "l = np.array(df1[['female','married','kids','prestige','menpubs']])\n",
    "k = np.array(df1['articles'])\n",
    "\n",
    "soln_nbdr = minimize(NLLnbdr,\n",
    "                     args = (l,k),\n",
    "                     x0 = np.array((0.1,0.1,0.1,0.1,0.1,1,1)),\n",
    "                     bounds=[(None,None),(None,None),(None,None),(None,None),(None,None),(0.000001,None),(0.000001,None)],\n",
    "                     tol=1e-10,\n",
    "                     options={'ftol' : 1e-8})\n",
    "\n",
    "# Get the optimal solution\n",
    "beta1 = soln_nbdr.x[0]\n",
    "beta2 = soln_nbdr.x[1]\n",
    "beta3 = soln_nbdr.x[2]\n",
    "beta4 = soln_nbdr.x[3]\n",
    "beta5 = soln_nbdr.x[4]\n",
    "alpha = soln_nbdr.x[5]\n",
    "n = soln_nbdr.x[6]\n",
    "ll_nbdr = (-1)*soln_nbdr.fun\n",
    "\n",
    "print(f\"Optimal Solution for NBD Regression Model:\")\n",
    "print(f\"n = {round(n,4)}\")\n",
    "print(f\"alpha = {round(alpha,4)}\")\n",
    "print(f\"beta1 = {round(beta1,4)}\")\n",
    "print(f\"beta2 = {round(beta2,4)}\")\n",
    "print(f\"beta3 = {round(beta3,4)}\")\n",
    "print(f\"beta4 = {round(beta4,4)}\")\n",
    "print(f\"beta5 = {round(beta5,4)}\")\n",
    "print(f\"Log likelihood = {round(ll_nbdr,6)}\")"
   ]
  },
  {
   "cell_type": "markdown",
   "id": "53192492",
   "metadata": {},
   "source": [
    "# QUESTION 3"
   ]
  },
  {
   "cell_type": "markdown",
   "id": "8e7e4fc9",
   "metadata": {},
   "source": [
    "<hr style=\"border:2px solid black\">\n",
    "3. In this question, you will apply the ideas learned in this course to build a model that you have not seen before {The Zero Inflated NBD Regression. \n",
    "\n",
    "First, recall that zero inflated models view 0s as coming from 2 sources - (i) from a fraction pie who is 0 \"by type\" (in the context of this problem, these are candidates who will never publish), and (ii) from the remaining fraction (1-pie) who are likely to eventually become nonzero (these are candidates who will publish at some point, but have not done so yet). You can assume that the candidates in the latter group are distributed as a negative binomial (making the NBD regression appropriate for them). Explain the logic used in developing the model in detail. (hint: you do not need anything beyond what you have learned in the class to do this.)\n",
    "\n",
    "Report your code, the estimated parameters and the maximum value of the log-likelihood. What are the\n",
    "managerial takeaways | which customer characteristics seem to be important?\n",
    "<hr style=\"border:2px solid black\">"
   ]
  },
  {
   "cell_type": "code",
   "execution_count": 27,
   "id": "c2d033bc",
   "metadata": {},
   "outputs": [
    {
     "name": "stdout",
     "output_type": "stream",
     "text": [
      "Optimal Solution for Zero-Inflated NBD Regression Model:\n",
      "pie = 1e-06\n",
      "n = 2.2645\n",
      "alpha = 1.7527\n",
      "beta1 = -0.2165\n",
      "beta2 = 0.1504\n",
      "beta3 = -0.1767\n",
      "beta4 = 0.0153\n",
      "beta5 = 0.0291\n",
      "Log likelihood = -1560.958404\n"
     ]
    }
   ],
   "source": [
    "def PART1(params,l,k):\n",
    "    n = params[len(l)+1]\n",
    "    num = gamma(n+k)\n",
    "    denom = gamma(n)*(factorial(k))\n",
    "    return num/denom\n",
    "\n",
    "def PART2(params,l,k):\n",
    "    alpha = params[len(l)]\n",
    "    n = params[len(l)+1]\n",
    "    reg = 0\n",
    "    for j in range(len(l)):\n",
    "        reg += params[j]*l[j]\n",
    "    exp = e**reg\n",
    "    final = ((alpha/(alpha+exp))**n)*((exp/(alpha+exp))**k)\n",
    "    return final\n",
    "\n",
    "def LLzinbdr(params,l,k):\n",
    "    pie = params[len(params)-1]\n",
    "    ll = []\n",
    "    for i in range(len(k)):\n",
    "        if k[i] == 0:\n",
    "            ll_zi = np.log(pie + ((1-pie)*(PART1(params,l[i],k[i]))*(PART2(params,l[i],k[i]))))\n",
    "        else:\n",
    "            ll_zi = np.log((1-pie)*(PART1(params,l[i],k[i]))*(PART2(params,l[i],k[i])))\n",
    "        ll.append(ll_zi)\n",
    "    return ll\n",
    "\n",
    "# Negative of log likelihood for minimization function\n",
    "def NLLzinbdr(params,l,k):\n",
    "    return (-1)*np.sum(LLzinbdr(params,l,k))\n",
    "\n",
    "# Defining parameters and maximising log likelihood\n",
    "l = np.array(df1[['female','married','kids','prestige','menpubs']])\n",
    "k = np.array(df1['articles'])\n",
    "\n",
    "soln_zinbdr = minimize(NLLzinbdr,\n",
    "                       args = (l,k),\n",
    "                       x0 = np.array((0.1,0.1,0.1,0.1,0.1,1,1,0.5)),\n",
    "                       bounds=[(None,None),(None,None),(None,None),(None,None),(None,None),(0.000001,None),(0.000001,None),(0.000001,0.999999)],\n",
    "                       tol=1e-10,\n",
    "                       options={'ftol' : 1e-8})\n",
    "\n",
    "# Get the optimal solution\n",
    "beta1 = soln_zinbdr.x[0]\n",
    "beta2 = soln_zinbdr.x[1]\n",
    "beta3 = soln_zinbdr.x[2]\n",
    "beta4 = soln_zinbdr.x[3]\n",
    "beta5 = soln_zinbdr.x[4]\n",
    "alpha = soln_zinbdr.x[5]\n",
    "n = soln_zinbdr.x[6]\n",
    "pie = soln_zinbdr.x[7]\n",
    "ll_zinbdr = (-1)*soln_zinbdr.fun\n",
    "\n",
    "print(f\"Optimal Solution for Zero-Inflated NBD Regression Model:\")\n",
    "print(f\"pie = {round(pie,6)}\")\n",
    "print(f\"n = {round(n,4)}\")\n",
    "print(f\"alpha = {round(alpha,4)}\")\n",
    "print(f\"beta1 = {round(beta1,4)}\")\n",
    "print(f\"beta2 = {round(beta2,4)}\")\n",
    "print(f\"beta3 = {round(beta3,4)}\")\n",
    "print(f\"beta4 = {round(beta4,4)}\")\n",
    "print(f\"beta5 = {round(beta5,4)}\")\n",
    "print(f\"Log likelihood = {round(ll_zinbdr,6)}\")"
   ]
  },
  {
   "cell_type": "markdown",
   "id": "7eb33e1b",
   "metadata": {},
   "source": [
    "# QUESTION 4"
   ]
  },
  {
   "cell_type": "markdown",
   "id": "143eae6d",
   "metadata": {},
   "source": [
    "<hr style=\"border:2px solid black\">\n",
    "4. Evaluate the models developed; explain which of them is best, and why. Are there any significant differences among the results from these models? If so, what exactly are these differences? Discuss what you believe could be causing the diferences.\n",
    "<hr style=\"border:2px solid black\">"
   ]
  },
  {
   "cell_type": "markdown",
   "id": "c6aacdaf",
   "metadata": {},
   "source": [
    "<hr style=\"border:2px solid black\">\n",
    "BIC\n",
    "<hr style=\"border:2px solid black\">"
   ]
  },
  {
   "cell_type": "code",
   "execution_count": 28,
   "id": "a763c22c",
   "metadata": {},
   "outputs": [
    {
     "name": "stdout",
     "output_type": "stream",
     "text": [
      "BIC for Poisson Regression model is 3343.03\n",
      "BIC for NBD Regression model is 3169.65\n",
      "BIC for Zero Inflated NBD Regression model is 3176.47\n"
     ]
    }
   ],
   "source": [
    "# BIC: k*ln(n)-2*LL\n",
    "BIC_pr = (6*np.log(len(df1['articles'])))-(2*ll_pr)\n",
    "BIC_nbdr = (7*np.log(len(df1['articles'])))-(2*ll_nbdr)\n",
    "BIC_zinbdr = (8*np.log(len(df1['articles'])))-(2*ll_zinbdr)\n",
    "\n",
    "# Printing the BIC values for all the models\n",
    "print(f\"BIC for Poisson Regression model is {round(BIC_pr,2)}\")\n",
    "print(f\"BIC for NBD Regression model is {round(BIC_nbdr,2)}\")\n",
    "print(f\"BIC for Zero Inflated NBD Regression model is {round(BIC_zinbdr,2)}\")"
   ]
  },
  {
   "cell_type": "markdown",
   "id": "3b3b5863",
   "metadata": {},
   "source": [
    "<hr style=\"border:2px solid black\">\n",
    "AIC\n",
    "<hr style=\"border:2px solid black\">"
   ]
  },
  {
   "cell_type": "code",
   "execution_count": 29,
   "id": "aecbb43b",
   "metadata": {},
   "outputs": [
    {
     "name": "stdout",
     "output_type": "stream",
     "text": [
      "AIC for Poisson Regression model is 3314.11\n",
      "AIC for NBD Regression model is 3135.92\n",
      "AIC for Zero Inflated NBD Regression model is 3137.92\n"
     ]
    }
   ],
   "source": [
    "# AIC: 2k-2*LL\n",
    "AIC_pr = (6*2)-(2*ll_pr)\n",
    "AIC_nbdr = (7*2)-(2*ll_nbdr)\n",
    "AIC_zinbdr = (8*2)-(2*ll_zinbdr)\n",
    "\n",
    "# Printing the AIC values for all the models\n",
    "print(f\"AIC for Poisson Regression model is {round(AIC_pr,2)}\")\n",
    "print(f\"AIC for NBD Regression model is {round(AIC_nbdr,2)}\")\n",
    "print(f\"AIC for Zero Inflated NBD Regression model is {round(AIC_zinbdr,2)}\")"
   ]
  }
 ],
 "metadata": {
  "kernelspec": {
   "display_name": "Python 3 (ipykernel)",
   "language": "python",
   "name": "python3"
  },
  "language_info": {
   "codemirror_mode": {
    "name": "ipython",
    "version": 3
   },
   "file_extension": ".py",
   "mimetype": "text/x-python",
   "name": "python",
   "nbconvert_exporter": "python",
   "pygments_lexer": "ipython3",
   "version": "3.9.12"
  }
 },
 "nbformat": 4,
 "nbformat_minor": 5
}
